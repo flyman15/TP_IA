{
 "cells": [
  {
   "cell_type": "markdown",
   "metadata": {},
   "source": [
    "\n",
    "# *Intelligence Artificielle et Jeux - ECM 2A*\n",
    "\n",
    "\n",
    "# Résolution par exploration\n",
    "\n",
    "### Plan\n",
    "\n",
    "0. Guide sur les Notebook Python\n",
    "1. Environnement de travail\n",
    "2. Résolution de problèmes par exploration\n",
    "3. Création d'une nouvelle classe de problème \n",
    "4. Accélération de la recherche avec des algorithmes informés"
   ]
  },
  {
   "cell_type": "markdown",
   "metadata": {},
   "source": [
    "## 0. Introduction aux notebook\n",
    "\n",
    "0. Guide sur les Notebook Python\n",
    "1. Environnement de travail\n",
    "2. Résolution de problèmes par exploration\n",
    "3. Création d'une nouvelle classe de problème \n",
    "4. Accélération de la recherche avec des algorithmes informés"
   ]
  },
  {
   "cell_type": "markdown",
   "metadata": {},
   "source": [
    "Aller voir une introduction rapide à http://dichotomies.fr/2015/informatique/info1/cours/debuter-avec-les-notebooks/\n",
    "\n",
    "La syntaxe des cellules de commentaires (Markdown, comme cette cellule) est décrte ici : https://daringfireball.net/projects/markdown/syntax#list"
   ]
  },
  {
   "cell_type": "markdown",
   "metadata": {},
   "source": [
    "NB : Avant de pouvoir utiliser l'environnemenr vous devez\n",
    "- Télécharger l'archive \n",
    "- Mettre à jour la variable d'environnement PYTHONPATH pour inclure le répertoire racine du projet\n",
    "\n",
    "Si vous avez déjà lancé *ipython notebook* interrompez le dans le terminal, mettez à jour PYTHONPATH puis relancez *ipython notebook* "
   ]
  },
  {
   "cell_type": "markdown",
   "metadata": {},
   "source": [
    "## 1. Environnement de travail"
   ]
  },
  {
   "cell_type": "markdown",
   "metadata": {},
   "source": [
    "### Présentation de l'environnement de travail"
   ]
  },
  {
   "cell_type": "markdown",
   "metadata": {},
   "source": [
    "#### Dans cette première partie vous  vous intéresserez aux répertoires et fichiers suivants  \n",
    "\n",
    "*  Problems : \n",
    " * Problems.py : définition générique de la classe Problem. Les instances de problèmes ne seront accesibles que via leurs méthodes publiques, qui redéfinissent les méthodes de la classe générique.\n",
    "\n",
    "* Solvers : \n",
    " * Solvers.py : fonctions de résolutions généiques pour résoudre tout problème instance de la classe Problem générique\n",
    "\n",
    "* Chess : Tout le code concernant les échecs\n",
    " * ChessProblems.py : Un problème à résoudre lié aux échecs, le problème des huit reines\n",
    " \n",
    "#### Vous aurez peut-être à vous intéresser à des fonctions utiles de gestion de listes FIFO ou LIFO (nommées FIFOQueue et Stack) dans le fichier utils.py du répertoire UTILE mais n'y allez voir que pour rechercher une classe ou une fonction."
   ]
  },
  {
   "cell_type": "markdown",
   "metadata": {
    "collapsed": true
   },
   "source": [
    "### Utilisation de l'environnement chess\n",
    "\n",
    "Pour le jeu d'échecs nous utiliserons les fonctions disponibles dans le package python-chess, décrit ici https://pypi.python.org/pypi/python-chess, et reprises en partie ci-dessous."
   ]
  },
  {
   "cell_type": "code",
   "execution_count": null,
   "metadata": {},
   "outputs": [],
   "source": [
    "# Import et création d'un échiquier (avec les méthodes associées)\n",
    "\n",
    "import chess\n",
    "\n",
    "board = chess.Board()\n",
    "\n",
    "board\n"
   ]
  },
  {
   "cell_type": "code",
   "execution_count": null,
   "metadata": {},
   "outputs": [],
   "source": [
    "# lister les coups légaux dans une position donnée\n",
    "\n",
    "board.legal_moves\n"
   ]
  },
  {
   "cell_type": "code",
   "execution_count": null,
   "metadata": {},
   "outputs": [],
   "source": [
    "# Executer des coups\n",
    "\n",
    "Nf3 = chess.Move.from_uci(\"g1f3\")\n",
    "print (Nf3)\n",
    "board.push(Nf3)  # Make the move\n",
    "\n",
    "board"
   ]
  },
  {
   "cell_type": "code",
   "execution_count": null,
   "metadata": {},
   "outputs": [],
   "source": [
    "# Exécuter une série de coups. Notez qu'à chaque exécution le joueur courant tourne.\n",
    "\n",
    "board = chess.Board()\n",
    "\n",
    "board.push_san(\"e4\")\n",
    "board.push_san(\"e5\")\n",
    "board.push_san(\"Qh5\")\n",
    "board.push_san(\"Nc6\")\n",
    "board.push_san(\"Bc4\")\n",
    "board.push_san(\"Nf6\")\n",
    "board.push_san(\"Qxf7\")\n",
    "\n",
    "board.is_checkmate()\n",
    "\n",
    "board\n"
   ]
  },
  {
   "cell_type": "code",
   "execution_count": null,
   "metadata": {},
   "outputs": [],
   "source": [
    "# Making moves\n",
    "\n",
    "\n",
    "board = chess.Board()\n",
    "\n",
    "print (\"Avant de jouer le cavalier G1\")\n",
    "print (board)\n",
    "\n",
    "Nf3 = chess.Move.from_uci(\"g1f3\")\n",
    "board.push(Nf3)  # Make the move\n",
    "\n",
    "print (\"Après avoir joué le cavalier G1\")\n",
    "\n",
    "print (board)\n",
    "board.pop()  # Unmake the last move\n",
    "\n",
    "print (\"Après avoir annuler le coup\")\n",
    "print(board)\n",
    "\n"
   ]
  },
  {
   "cell_type": "code",
   "execution_count": null,
   "metadata": {},
   "outputs": [],
   "source": [
    "# Initialiser un échiquier avec une chaine de caractères\n",
    "\n",
    "board = chess.Board(\"r1bqkb1r/pppp1Qpp/2n2n2/4p3/2B1P3/8/PPPP1PPP/RNB1K1NR b KQkq - 0 4\")\n",
    "print(board)\n",
    "\n",
    "board"
   ]
  },
  {
   "cell_type": "code",
   "execution_count": null,
   "metadata": {},
   "outputs": [],
   "source": [
    "#Detecting mate and so on\n",
    "\n",
    "board.is_stalemate()\n",
    "board.is_insufficient_material()\n",
    "\n",
    "board.is_game_over()\n"
   ]
  },
  {
   "cell_type": "markdown",
   "metadata": {},
   "source": [
    "#### To do\n",
    "\n",
    "Initialisez (et affichez) un echiquier avec une seule pièce, un cavalier blanc en position \"e4\". "
   ]
  },
  {
   "cell_type": "markdown",
   "metadata": {},
   "source": [
    "### Utilisation de l'environnement NQueensProblem"
   ]
  },
  {
   "cell_type": "code",
   "execution_count": null,
   "metadata": {
    "collapsed": true
   },
   "outputs": [],
   "source": [
    "\n",
    "from Problems.Problems import Problem\n",
    "\n",
    "from Chess.ChessProblems import NQueensProblem\n",
    "\n",
    "p= NQueensProblem(8)\n"
   ]
  },
  {
   "cell_type": "raw",
   "metadata": {},
   "source": [
    "Essayez de taper \n",
    "p. + TAB\n"
   ]
  },
  {
   "cell_type": "markdown",
   "metadata": {},
   "source": [
    "#### Le problème des 8 reines utilise le codage de l'état de jeu (l'emplacement des reines placées) suivant. \n",
    "\n",
    "* Les numéros de ligne des reines sont codés dans un tableau de dimension 8 initialisé à None. \n",
    " * Ainsi l'état initial est : [None, None, None, None, None, None, None, None]\n",
    " * Les numéros de colonne sont implicites. La première reine est de fait placée sur la 1ère colonne, la seconde sur la seconde etc. C'est pour cette raison que l'on ne stocke que le numero de ligne de chaune des reines.         \n",
    " * Voici le constructeur de la classe NQueensProblem :\n",
    "\n",
    "\n",
    "    def __init__(self, N):\n",
    "        self.N = N\n",
    "        self.initial = [None] * N       \n",
    "\n",
    "* L'algorithme de résolution cherche à placer la première reine puis la seconde puis la troisième etc\n",
    "\n",
    "\n",
    "\n"
   ]
  },
  {
   "cell_type": "code",
   "execution_count": null,
   "metadata": {},
   "outputs": [],
   "source": [
    "print p.initial\n",
    "\n",
    "print 'successeurs de ', p.initial\n",
    "\n",
    "for e in p.successor(p.initial):\n",
    "    print e \n",
    "    \n",
    "s = p.successor(p.initial)[1][1] \n",
    "\n",
    "print 'successeurs de ', s\n",
    "\n",
    "for e in p.successor(s):\n",
    "    print e "
   ]
  },
  {
   "cell_type": "markdown",
   "metadata": {},
   "source": [
    "## 2. To do : Résolution de problèmes par exploration\n",
    "\n",
    "### 2.1. Ecriture des  codes de base\n",
    "\n",
    "* Ecrivez les codes nécessaires pour résoudre le problème par exploration avec un parcours en profondeur d'abord et un parcours en largeur d'abord\n",
    "\n",
    "Vious ecrirez des méthodes *depth_first_graph_search*, *breadth_first_graph_search* \n",
    "\n",
    " **Le code vera être écrit dans le fichier Solver.py dans le répertoir Solvers. Le code doit être générique et n'utliser de l'instance de problème que ses méthodes publiques (voir Problems.py dans le répertoire Problems)** \n",
    "\n",
    "Les cellules suivantes doivent fonctionner lorsue vous aurez écrit votre code, en considérant que l'état d'un noeud encode l'emplacement des reines qui ont été placées, l'état final encodant donc les emplacements de toutes les reines."
   ]
  },
  {
   "cell_type": "code",
   "execution_count": null,
   "metadata": {},
   "outputs": [],
   "source": [
    "\n",
    "from Problems.Problems import Problem\n",
    "\n",
    "from Chess.ChessProblems import NQueensProblem\n",
    "\n",
    "from Solvers.Solvers import depth_first_graph_search, breadth_first_graph_search\n",
    "\n",
    "p= NQueensProblem(8)\n",
    "s = depth_first_graph_search(p)\n",
    "\n",
    "p.display_solution(s)\n"
   ]
  },
  {
   "cell_type": "code",
   "execution_count": null,
   "metadata": {},
   "outputs": [],
   "source": [
    "s = breadth_first_graph_search(p)\n",
    "p.display_solution(s)"
   ]
  },
  {
   "cell_type": "markdown",
   "metadata": {},
   "source": [
    "### 2.2. Analyse de la complexité\n",
    "\n",
    "* Modifiez les codes de recherche pour obtenir non seulement une solution mais également le nombre de noeuds explorés pour l'atteindre.\n",
    "\n",
    "* Comparez de ce point de vue de complexité algorithmique les algorithmes en largeur d'abord et en profondeur d'abord pour des problèmes de reines sur des échiquiers de taille allant de 8 à 20. Affichez la courbe de complexité des 3 méthodes en fonction de la taille du problème. "
   ]
  },
  {
   "cell_type": "markdown",
   "metadata": {},
   "source": [
    "## 3. To do : Création d'une nouvelle classe de problème \n",
    "\n",
    "### 3.1. Ecriture du code et premiers tests\n",
    "\n",
    "* Ecrivez le code d'un nouveau problème, une nouvelle classe  *KnightProblem*, dans le fichier ChessProblems.py correspondant à un nouveau problème.\n",
    " * Il s'agit d'un problème de déplacement d'un cavalier. L'échiquier est initialement vide, le cavalier part d'une position initiale définie dans le problème et doit arriver dans une case finale qui est également définie dans le problème, en un nombre de coups minimal. \n",
    " \n",
    " \n",
    "\n",
    "* Testez vos méthodes de résolution sur ce nouveau problème. \n",
    "\n",
    " => Le code suivant doit fonctionner, pourvu que vous ayez utiliser les mêmes noms de méthodes et de classe dans votre code.\n"
   ]
  },
  {
   "cell_type": "code",
   "execution_count": null,
   "metadata": {},
   "outputs": [],
   "source": [
    "\n",
    "from Problems.Problems import Problem\n",
    "\n",
    "from Chess.ChessProblems import NQueensProblem, KnightProblem\n",
    "\n",
    "from Solvers.Solvers import depth_first_graph_search, breadth_first_graph_search\n",
    "\n",
    "p  = KnightProblem()\n",
    "\n",
    "s = depth_first_graph_search(p)\n",
    "\n",
    "p.display_solution(s)\n",
    "\n",
    "s = breadth_first_graph_search(p)\n",
    "\n",
    "p.display_solution(s)"
   ]
  },
  {
   "cell_type": "markdown",
   "metadata": {
    "collapsed": true
   },
   "source": [
    "### 3.2. Comparaison des méthodes de recherche sur le problème du cavalier et améliorations \n",
    "\n",
    "* Comparez les deux méthodes en termes de longueur de la solution trouvée (nombre de coups joués) et de noeuds explorés. \n",
    " \n",
    "* Pour améliorer l'efficacité de la recherche vous pouvez utiliser une stratégie de recherche en profondeur limitée  itérative. Implémentez cette fonction de recherche et comparez là avec les deux autres méthodes déjà implémentées   \n",
    " "
   ]
  },
  {
   "cell_type": "markdown",
   "metadata": {},
   "source": [
    "## 4. To do : Accélération de la recherche avec des algorithmes informés\n",
    "\n",
    "### 4.1 Meilleur d'abord vorace \n",
    "Le Meilleur d'abord vorace utilise une heuristique pour accélérer la recherche. Implémentez cette fonction de recherche en utilisant une heuristique telle que la distance entre la position courante et la position cible. Testez et comparez cette fonction de recherche aux précédentes\n",
    "\n",
    "### 4.2 L'algorithme A* \n",
    "L'algorithme A* utilise une heuristique également mais la combine au cout déjà accumulé dans le noeud. N'oubliez pas que l'heuristique que vous utilisez avec A* doit être une borne inférieure du cout réel, pour que les propriétés théoriques de cet algorithme soient garanties. Implémentez cet algorithme et comparez le aux autres algorithmes de recherche.  \n",
    "\n"
   ]
  },
  {
   "cell_type": "code",
   "execution_count": null,
   "metadata": {
    "collapsed": true
   },
   "outputs": [],
   "source": []
  }
 ],
 "metadata": {
  "kernelspec": {
   "display_name": "Python 2",
   "language": "python",
   "name": "python2"
  },
  "language_info": {
   "codemirror_mode": {
    "name": "ipython",
    "version": 2
   },
   "file_extension": ".py",
   "mimetype": "text/x-python",
   "name": "python",
   "nbconvert_exporter": "python",
   "pygments_lexer": "ipython2",
   "version": "2.7.14"
  }
 },
 "nbformat": 4,
 "nbformat_minor": 2
}
